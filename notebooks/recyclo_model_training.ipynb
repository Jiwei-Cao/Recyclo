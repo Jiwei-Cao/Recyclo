{
  "nbformat": 4,
  "nbformat_minor": 0,
  "metadata": {
    "colab": {
      "provenance": [],
      "machine_shape": "hm",
      "gpuType": "A100",
      "authorship_tag": "ABX9TyMcejupqrBiqDHdPduJOBLy",
      "include_colab_link": true
    },
    "kernelspec": {
      "name": "python3",
      "display_name": "Python 3"
    },
    "language_info": {
      "name": "python"
    },
    "accelerator": "GPU",
    "widgets": {
      "application/vnd.jupyter.widget-state+json": {
        "235a95e4b8dd42b495a8da2951d0dad1": {
          "model_module": "@jupyter-widgets/controls",
          "model_name": "HBoxModel",
          "model_module_version": "1.5.0",
          "state": {
            "_dom_classes": [],
            "_model_module": "@jupyter-widgets/controls",
            "_model_module_version": "1.5.0",
            "_model_name": "HBoxModel",
            "_view_count": null,
            "_view_module": "@jupyter-widgets/controls",
            "_view_module_version": "1.5.0",
            "_view_name": "HBoxView",
            "box_style": "",
            "children": [
              "IPY_MODEL_435c49f2b8ce4aa98f3619fe636be66b",
              "IPY_MODEL_95a050321dfa4ff082372fb723ccd84d",
              "IPY_MODEL_bdafcb7cadec487ca7e233276c70e34f"
            ],
            "layout": "IPY_MODEL_7348e3ebff2846879c8e09b12e99cb63"
          }
        },
        "435c49f2b8ce4aa98f3619fe636be66b": {
          "model_module": "@jupyter-widgets/controls",
          "model_name": "HTMLModel",
          "model_module_version": "1.5.0",
          "state": {
            "_dom_classes": [],
            "_model_module": "@jupyter-widgets/controls",
            "_model_module_version": "1.5.0",
            "_model_name": "HTMLModel",
            "_view_count": null,
            "_view_module": "@jupyter-widgets/controls",
            "_view_module_version": "1.5.0",
            "_view_name": "HTMLView",
            "description": "",
            "description_tooltip": null,
            "layout": "IPY_MODEL_72cfc920f2b945d38480d48ee97612d7",
            "placeholder": "​",
            "style": "IPY_MODEL_013567784340422099a442b9970d12f7",
            "value": "100%"
          }
        },
        "95a050321dfa4ff082372fb723ccd84d": {
          "model_module": "@jupyter-widgets/controls",
          "model_name": "FloatProgressModel",
          "model_module_version": "1.5.0",
          "state": {
            "_dom_classes": [],
            "_model_module": "@jupyter-widgets/controls",
            "_model_module_version": "1.5.0",
            "_model_name": "FloatProgressModel",
            "_view_count": null,
            "_view_module": "@jupyter-widgets/controls",
            "_view_module_version": "1.5.0",
            "_view_name": "ProgressView",
            "bar_style": "success",
            "description": "",
            "description_tooltip": null,
            "layout": "IPY_MODEL_9c88511b4f664ed8b69bb632e4ba25ba",
            "max": 10,
            "min": 0,
            "orientation": "horizontal",
            "style": "IPY_MODEL_fd8c57c364704b159c72cc06e60e4182",
            "value": 10
          }
        },
        "bdafcb7cadec487ca7e233276c70e34f": {
          "model_module": "@jupyter-widgets/controls",
          "model_name": "HTMLModel",
          "model_module_version": "1.5.0",
          "state": {
            "_dom_classes": [],
            "_model_module": "@jupyter-widgets/controls",
            "_model_module_version": "1.5.0",
            "_model_name": "HTMLModel",
            "_view_count": null,
            "_view_module": "@jupyter-widgets/controls",
            "_view_module_version": "1.5.0",
            "_view_name": "HTMLView",
            "description": "",
            "description_tooltip": null,
            "layout": "IPY_MODEL_59a3e30aee0248c0946a846b67451150",
            "placeholder": "​",
            "style": "IPY_MODEL_45192441a4d84352aa16758edaa50dbb",
            "value": " 10/10 [00:25&lt;00:00,  2.45s/it]"
          }
        },
        "7348e3ebff2846879c8e09b12e99cb63": {
          "model_module": "@jupyter-widgets/base",
          "model_name": "LayoutModel",
          "model_module_version": "1.2.0",
          "state": {
            "_model_module": "@jupyter-widgets/base",
            "_model_module_version": "1.2.0",
            "_model_name": "LayoutModel",
            "_view_count": null,
            "_view_module": "@jupyter-widgets/base",
            "_view_module_version": "1.2.0",
            "_view_name": "LayoutView",
            "align_content": null,
            "align_items": null,
            "align_self": null,
            "border": null,
            "bottom": null,
            "display": null,
            "flex": null,
            "flex_flow": null,
            "grid_area": null,
            "grid_auto_columns": null,
            "grid_auto_flow": null,
            "grid_auto_rows": null,
            "grid_column": null,
            "grid_gap": null,
            "grid_row": null,
            "grid_template_areas": null,
            "grid_template_columns": null,
            "grid_template_rows": null,
            "height": null,
            "justify_content": null,
            "justify_items": null,
            "left": null,
            "margin": null,
            "max_height": null,
            "max_width": null,
            "min_height": null,
            "min_width": null,
            "object_fit": null,
            "object_position": null,
            "order": null,
            "overflow": null,
            "overflow_x": null,
            "overflow_y": null,
            "padding": null,
            "right": null,
            "top": null,
            "visibility": null,
            "width": null
          }
        },
        "72cfc920f2b945d38480d48ee97612d7": {
          "model_module": "@jupyter-widgets/base",
          "model_name": "LayoutModel",
          "model_module_version": "1.2.0",
          "state": {
            "_model_module": "@jupyter-widgets/base",
            "_model_module_version": "1.2.0",
            "_model_name": "LayoutModel",
            "_view_count": null,
            "_view_module": "@jupyter-widgets/base",
            "_view_module_version": "1.2.0",
            "_view_name": "LayoutView",
            "align_content": null,
            "align_items": null,
            "align_self": null,
            "border": null,
            "bottom": null,
            "display": null,
            "flex": null,
            "flex_flow": null,
            "grid_area": null,
            "grid_auto_columns": null,
            "grid_auto_flow": null,
            "grid_auto_rows": null,
            "grid_column": null,
            "grid_gap": null,
            "grid_row": null,
            "grid_template_areas": null,
            "grid_template_columns": null,
            "grid_template_rows": null,
            "height": null,
            "justify_content": null,
            "justify_items": null,
            "left": null,
            "margin": null,
            "max_height": null,
            "max_width": null,
            "min_height": null,
            "min_width": null,
            "object_fit": null,
            "object_position": null,
            "order": null,
            "overflow": null,
            "overflow_x": null,
            "overflow_y": null,
            "padding": null,
            "right": null,
            "top": null,
            "visibility": null,
            "width": null
          }
        },
        "013567784340422099a442b9970d12f7": {
          "model_module": "@jupyter-widgets/controls",
          "model_name": "DescriptionStyleModel",
          "model_module_version": "1.5.0",
          "state": {
            "_model_module": "@jupyter-widgets/controls",
            "_model_module_version": "1.5.0",
            "_model_name": "DescriptionStyleModel",
            "_view_count": null,
            "_view_module": "@jupyter-widgets/base",
            "_view_module_version": "1.2.0",
            "_view_name": "StyleView",
            "description_width": ""
          }
        },
        "9c88511b4f664ed8b69bb632e4ba25ba": {
          "model_module": "@jupyter-widgets/base",
          "model_name": "LayoutModel",
          "model_module_version": "1.2.0",
          "state": {
            "_model_module": "@jupyter-widgets/base",
            "_model_module_version": "1.2.0",
            "_model_name": "LayoutModel",
            "_view_count": null,
            "_view_module": "@jupyter-widgets/base",
            "_view_module_version": "1.2.0",
            "_view_name": "LayoutView",
            "align_content": null,
            "align_items": null,
            "align_self": null,
            "border": null,
            "bottom": null,
            "display": null,
            "flex": null,
            "flex_flow": null,
            "grid_area": null,
            "grid_auto_columns": null,
            "grid_auto_flow": null,
            "grid_auto_rows": null,
            "grid_column": null,
            "grid_gap": null,
            "grid_row": null,
            "grid_template_areas": null,
            "grid_template_columns": null,
            "grid_template_rows": null,
            "height": null,
            "justify_content": null,
            "justify_items": null,
            "left": null,
            "margin": null,
            "max_height": null,
            "max_width": null,
            "min_height": null,
            "min_width": null,
            "object_fit": null,
            "object_position": null,
            "order": null,
            "overflow": null,
            "overflow_x": null,
            "overflow_y": null,
            "padding": null,
            "right": null,
            "top": null,
            "visibility": null,
            "width": null
          }
        },
        "fd8c57c364704b159c72cc06e60e4182": {
          "model_module": "@jupyter-widgets/controls",
          "model_name": "ProgressStyleModel",
          "model_module_version": "1.5.0",
          "state": {
            "_model_module": "@jupyter-widgets/controls",
            "_model_module_version": "1.5.0",
            "_model_name": "ProgressStyleModel",
            "_view_count": null,
            "_view_module": "@jupyter-widgets/base",
            "_view_module_version": "1.2.0",
            "_view_name": "StyleView",
            "bar_color": null,
            "description_width": ""
          }
        },
        "59a3e30aee0248c0946a846b67451150": {
          "model_module": "@jupyter-widgets/base",
          "model_name": "LayoutModel",
          "model_module_version": "1.2.0",
          "state": {
            "_model_module": "@jupyter-widgets/base",
            "_model_module_version": "1.2.0",
            "_model_name": "LayoutModel",
            "_view_count": null,
            "_view_module": "@jupyter-widgets/base",
            "_view_module_version": "1.2.0",
            "_view_name": "LayoutView",
            "align_content": null,
            "align_items": null,
            "align_self": null,
            "border": null,
            "bottom": null,
            "display": null,
            "flex": null,
            "flex_flow": null,
            "grid_area": null,
            "grid_auto_columns": null,
            "grid_auto_flow": null,
            "grid_auto_rows": null,
            "grid_column": null,
            "grid_gap": null,
            "grid_row": null,
            "grid_template_areas": null,
            "grid_template_columns": null,
            "grid_template_rows": null,
            "height": null,
            "justify_content": null,
            "justify_items": null,
            "left": null,
            "margin": null,
            "max_height": null,
            "max_width": null,
            "min_height": null,
            "min_width": null,
            "object_fit": null,
            "object_position": null,
            "order": null,
            "overflow": null,
            "overflow_x": null,
            "overflow_y": null,
            "padding": null,
            "right": null,
            "top": null,
            "visibility": null,
            "width": null
          }
        },
        "45192441a4d84352aa16758edaa50dbb": {
          "model_module": "@jupyter-widgets/controls",
          "model_name": "DescriptionStyleModel",
          "model_module_version": "1.5.0",
          "state": {
            "_model_module": "@jupyter-widgets/controls",
            "_model_module_version": "1.5.0",
            "_model_name": "DescriptionStyleModel",
            "_view_count": null,
            "_view_module": "@jupyter-widgets/base",
            "_view_module_version": "1.2.0",
            "_view_name": "StyleView",
            "description_width": ""
          }
        },
        "5b967d95ffb44f0dbcff98c194390b05": {
          "model_module": "@jupyter-widgets/controls",
          "model_name": "HBoxModel",
          "model_module_version": "1.5.0",
          "state": {
            "_dom_classes": [],
            "_model_module": "@jupyter-widgets/controls",
            "_model_module_version": "1.5.0",
            "_model_name": "HBoxModel",
            "_view_count": null,
            "_view_module": "@jupyter-widgets/controls",
            "_view_module_version": "1.5.0",
            "_view_name": "HBoxView",
            "box_style": "",
            "children": [
              "IPY_MODEL_fa191c4b19e64d428ec23064bf9a464e",
              "IPY_MODEL_30c35459bb264c5f8ef04e757243b806",
              "IPY_MODEL_faec296cba7d49d2b442481858d79bae"
            ],
            "layout": "IPY_MODEL_a58d077a5c434f42b813e71c9003db96"
          }
        },
        "fa191c4b19e64d428ec23064bf9a464e": {
          "model_module": "@jupyter-widgets/controls",
          "model_name": "HTMLModel",
          "model_module_version": "1.5.0",
          "state": {
            "_dom_classes": [],
            "_model_module": "@jupyter-widgets/controls",
            "_model_module_version": "1.5.0",
            "_model_name": "HTMLModel",
            "_view_count": null,
            "_view_module": "@jupyter-widgets/controls",
            "_view_module_version": "1.5.0",
            "_view_name": "HTMLView",
            "description": "",
            "description_tooltip": null,
            "layout": "IPY_MODEL_bc7a5a76996c47838700ab471f639d0f",
            "placeholder": "​",
            "style": "IPY_MODEL_b20f9dcae895466696b89558707efe94",
            "value": "100%"
          }
        },
        "30c35459bb264c5f8ef04e757243b806": {
          "model_module": "@jupyter-widgets/controls",
          "model_name": "FloatProgressModel",
          "model_module_version": "1.5.0",
          "state": {
            "_dom_classes": [],
            "_model_module": "@jupyter-widgets/controls",
            "_model_module_version": "1.5.0",
            "_model_name": "FloatProgressModel",
            "_view_count": null,
            "_view_module": "@jupyter-widgets/controls",
            "_view_module_version": "1.5.0",
            "_view_name": "ProgressView",
            "bar_style": "success",
            "description": "",
            "description_tooltip": null,
            "layout": "IPY_MODEL_7f50df473eb64e49a1d71165c723347c",
            "max": 15,
            "min": 0,
            "orientation": "horizontal",
            "style": "IPY_MODEL_edf14a9b4f4449fb80ef45f6f03f1ece",
            "value": 15
          }
        },
        "faec296cba7d49d2b442481858d79bae": {
          "model_module": "@jupyter-widgets/controls",
          "model_name": "HTMLModel",
          "model_module_version": "1.5.0",
          "state": {
            "_dom_classes": [],
            "_model_module": "@jupyter-widgets/controls",
            "_model_module_version": "1.5.0",
            "_model_name": "HTMLModel",
            "_view_count": null,
            "_view_module": "@jupyter-widgets/controls",
            "_view_module_version": "1.5.0",
            "_view_name": "HTMLView",
            "description": "",
            "description_tooltip": null,
            "layout": "IPY_MODEL_42b016de8cc3429085edd734ae496f2b",
            "placeholder": "​",
            "style": "IPY_MODEL_8787a36c32864026950e610522f4856f",
            "value": " 15/15 [01:20&lt;00:00,  5.33s/it]"
          }
        },
        "a58d077a5c434f42b813e71c9003db96": {
          "model_module": "@jupyter-widgets/base",
          "model_name": "LayoutModel",
          "model_module_version": "1.2.0",
          "state": {
            "_model_module": "@jupyter-widgets/base",
            "_model_module_version": "1.2.0",
            "_model_name": "LayoutModel",
            "_view_count": null,
            "_view_module": "@jupyter-widgets/base",
            "_view_module_version": "1.2.0",
            "_view_name": "LayoutView",
            "align_content": null,
            "align_items": null,
            "align_self": null,
            "border": null,
            "bottom": null,
            "display": null,
            "flex": null,
            "flex_flow": null,
            "grid_area": null,
            "grid_auto_columns": null,
            "grid_auto_flow": null,
            "grid_auto_rows": null,
            "grid_column": null,
            "grid_gap": null,
            "grid_row": null,
            "grid_template_areas": null,
            "grid_template_columns": null,
            "grid_template_rows": null,
            "height": null,
            "justify_content": null,
            "justify_items": null,
            "left": null,
            "margin": null,
            "max_height": null,
            "max_width": null,
            "min_height": null,
            "min_width": null,
            "object_fit": null,
            "object_position": null,
            "order": null,
            "overflow": null,
            "overflow_x": null,
            "overflow_y": null,
            "padding": null,
            "right": null,
            "top": null,
            "visibility": null,
            "width": null
          }
        },
        "bc7a5a76996c47838700ab471f639d0f": {
          "model_module": "@jupyter-widgets/base",
          "model_name": "LayoutModel",
          "model_module_version": "1.2.0",
          "state": {
            "_model_module": "@jupyter-widgets/base",
            "_model_module_version": "1.2.0",
            "_model_name": "LayoutModel",
            "_view_count": null,
            "_view_module": "@jupyter-widgets/base",
            "_view_module_version": "1.2.0",
            "_view_name": "LayoutView",
            "align_content": null,
            "align_items": null,
            "align_self": null,
            "border": null,
            "bottom": null,
            "display": null,
            "flex": null,
            "flex_flow": null,
            "grid_area": null,
            "grid_auto_columns": null,
            "grid_auto_flow": null,
            "grid_auto_rows": null,
            "grid_column": null,
            "grid_gap": null,
            "grid_row": null,
            "grid_template_areas": null,
            "grid_template_columns": null,
            "grid_template_rows": null,
            "height": null,
            "justify_content": null,
            "justify_items": null,
            "left": null,
            "margin": null,
            "max_height": null,
            "max_width": null,
            "min_height": null,
            "min_width": null,
            "object_fit": null,
            "object_position": null,
            "order": null,
            "overflow": null,
            "overflow_x": null,
            "overflow_y": null,
            "padding": null,
            "right": null,
            "top": null,
            "visibility": null,
            "width": null
          }
        },
        "b20f9dcae895466696b89558707efe94": {
          "model_module": "@jupyter-widgets/controls",
          "model_name": "DescriptionStyleModel",
          "model_module_version": "1.5.0",
          "state": {
            "_model_module": "@jupyter-widgets/controls",
            "_model_module_version": "1.5.0",
            "_model_name": "DescriptionStyleModel",
            "_view_count": null,
            "_view_module": "@jupyter-widgets/base",
            "_view_module_version": "1.2.0",
            "_view_name": "StyleView",
            "description_width": ""
          }
        },
        "7f50df473eb64e49a1d71165c723347c": {
          "model_module": "@jupyter-widgets/base",
          "model_name": "LayoutModel",
          "model_module_version": "1.2.0",
          "state": {
            "_model_module": "@jupyter-widgets/base",
            "_model_module_version": "1.2.0",
            "_model_name": "LayoutModel",
            "_view_count": null,
            "_view_module": "@jupyter-widgets/base",
            "_view_module_version": "1.2.0",
            "_view_name": "LayoutView",
            "align_content": null,
            "align_items": null,
            "align_self": null,
            "border": null,
            "bottom": null,
            "display": null,
            "flex": null,
            "flex_flow": null,
            "grid_area": null,
            "grid_auto_columns": null,
            "grid_auto_flow": null,
            "grid_auto_rows": null,
            "grid_column": null,
            "grid_gap": null,
            "grid_row": null,
            "grid_template_areas": null,
            "grid_template_columns": null,
            "grid_template_rows": null,
            "height": null,
            "justify_content": null,
            "justify_items": null,
            "left": null,
            "margin": null,
            "max_height": null,
            "max_width": null,
            "min_height": null,
            "min_width": null,
            "object_fit": null,
            "object_position": null,
            "order": null,
            "overflow": null,
            "overflow_x": null,
            "overflow_y": null,
            "padding": null,
            "right": null,
            "top": null,
            "visibility": null,
            "width": null
          }
        },
        "edf14a9b4f4449fb80ef45f6f03f1ece": {
          "model_module": "@jupyter-widgets/controls",
          "model_name": "ProgressStyleModel",
          "model_module_version": "1.5.0",
          "state": {
            "_model_module": "@jupyter-widgets/controls",
            "_model_module_version": "1.5.0",
            "_model_name": "ProgressStyleModel",
            "_view_count": null,
            "_view_module": "@jupyter-widgets/base",
            "_view_module_version": "1.2.0",
            "_view_name": "StyleView",
            "bar_color": null,
            "description_width": ""
          }
        },
        "42b016de8cc3429085edd734ae496f2b": {
          "model_module": "@jupyter-widgets/base",
          "model_name": "LayoutModel",
          "model_module_version": "1.2.0",
          "state": {
            "_model_module": "@jupyter-widgets/base",
            "_model_module_version": "1.2.0",
            "_model_name": "LayoutModel",
            "_view_count": null,
            "_view_module": "@jupyter-widgets/base",
            "_view_module_version": "1.2.0",
            "_view_name": "LayoutView",
            "align_content": null,
            "align_items": null,
            "align_self": null,
            "border": null,
            "bottom": null,
            "display": null,
            "flex": null,
            "flex_flow": null,
            "grid_area": null,
            "grid_auto_columns": null,
            "grid_auto_flow": null,
            "grid_auto_rows": null,
            "grid_column": null,
            "grid_gap": null,
            "grid_row": null,
            "grid_template_areas": null,
            "grid_template_columns": null,
            "grid_template_rows": null,
            "height": null,
            "justify_content": null,
            "justify_items": null,
            "left": null,
            "margin": null,
            "max_height": null,
            "max_width": null,
            "min_height": null,
            "min_width": null,
            "object_fit": null,
            "object_position": null,
            "order": null,
            "overflow": null,
            "overflow_x": null,
            "overflow_y": null,
            "padding": null,
            "right": null,
            "top": null,
            "visibility": null,
            "width": null
          }
        },
        "8787a36c32864026950e610522f4856f": {
          "model_module": "@jupyter-widgets/controls",
          "model_name": "DescriptionStyleModel",
          "model_module_version": "1.5.0",
          "state": {
            "_model_module": "@jupyter-widgets/controls",
            "_model_module_version": "1.5.0",
            "_model_name": "DescriptionStyleModel",
            "_view_count": null,
            "_view_module": "@jupyter-widgets/base",
            "_view_module_version": "1.2.0",
            "_view_name": "StyleView",
            "description_width": ""
          }
        }
      }
    }
  },
  "cells": [
    {
      "cell_type": "markdown",
      "metadata": {
        "id": "view-in-github",
        "colab_type": "text"
      },
      "source": [
        "<a href=\"https://colab.research.google.com/github/Jiwei-Cao/Recyclo/blob/main/notebooks/recyclo_model_training.ipynb\" target=\"_parent\"><img src=\"https://colab.research.google.com/assets/colab-badge.svg\" alt=\"Open In Colab\"/></a>"
      ]
    },
    {
      "cell_type": "code",
      "execution_count": null,
      "metadata": {
        "id": "m7eFABXebDKC",
        "colab": {
          "base_uri": "https://localhost:8080/"
        },
        "outputId": "037458b4-502b-4e87-f0ef-a70991dca0a5"
      },
      "outputs": [
        {
          "output_type": "stream",
          "name": "stdout",
          "text": [
            "[INFO] Couldn't find torchinfo... installing it\n"
          ]
        }
      ],
      "source": [
        "# Regular imports\n",
        "import torch\n",
        "import torchvision\n",
        "from torch import nn\n",
        "from torchvision import transforms, datasets\n",
        "import matplotlib.pyplot as plt\n",
        "from pathlib import Path\n",
        "import os\n",
        "import zipfile\n",
        "import requests\n",
        "import shutil\n",
        "import random\n",
        "from torch.utils.data import DataLoader\n",
        "from tqdm.auto import tqdm\n",
        "from typing import Dict, List, Tuple\n",
        "\n",
        "try:\n",
        "  from torchinfo import summary\n",
        "except:\n",
        "  print(\"[INFO] Couldn't find torchinfo... installing it\")\n",
        "  !pip install -q torchinfo\n",
        "  from torchinfo import summary"
      ]
    },
    {
      "cell_type": "code",
      "source": [
        "device = \"cuda\" if torch.cuda.is_available() else \"cpu\"\n",
        "device"
      ],
      "metadata": {
        "id": "_QNlbM1AcAQV",
        "colab": {
          "base_uri": "https://localhost:8080/",
          "height": 36
        },
        "outputId": "72b750cc-3466-431f-a258-fac45131c944"
      },
      "execution_count": null,
      "outputs": [
        {
          "output_type": "execute_result",
          "data": {
            "text/plain": [
              "'cuda'"
            ],
            "application/vnd.google.colaboratory.intrinsic+json": {
              "type": "string"
            }
          },
          "metadata": {},
          "execution_count": 2
        }
      ]
    },
    {
      "cell_type": "code",
      "source": [
        "def download_data(source: str,\n",
        "                  destination: str,\n",
        "                  remove_source: bool = True) -> Path:\n",
        "    \"\"\"Downloads a zipped dataset from source and unzips to destination.\n",
        "\n",
        "    Args:\n",
        "        source (str): A link to a zipped file containing data.\n",
        "        destination (str): A target directory to unzip data to.\n",
        "        remove_source (bool): Whether to remove the source after downloading and extracting.\n",
        "\n",
        "    Returns:\n",
        "        pathlib.Path to downloaded data.\n",
        "    \"\"\"\n",
        "    # Setup path to data folder\n",
        "    data_path = Path(\"data/\")\n",
        "    image_path = data_path / destination\n",
        "\n",
        "    # If the image folder doesn't exist, download it and prepare it...\n",
        "    if image_path.is_dir():\n",
        "        print(f\"[INFO] {image_path} directory exists, skipping download.\")\n",
        "    else:\n",
        "        print(f\"[INFO] Did not find {image_path} directory, creating one...\")\n",
        "        image_path.mkdir(parents=True, exist_ok=True)\n",
        "\n",
        "        # Download pizza, steak, sushi data\n",
        "        target_file = Path(source).name\n",
        "        with open(data_path / target_file, \"wb\") as f:\n",
        "            request = requests.get(source)\n",
        "            print(f\"[INFO] Downloading {target_file} from {source}...\")\n",
        "            f.write(request.content)\n",
        "\n",
        "        # Unzip pizza, steak, sushi data\n",
        "        with zipfile.ZipFile(data_path / target_file, \"r\") as zip_ref:\n",
        "            print(f\"[INFO] Unzipping {target_file} data...\")\n",
        "            zip_ref.extractall(image_path)\n",
        "\n",
        "        # Remove .zip file\n",
        "        if remove_source:\n",
        "            os.remove(data_path / target_file)\n",
        "\n",
        "    return image_path"
      ],
      "metadata": {
        "id": "awBtZDNkcGi6"
      },
      "execution_count": null,
      "outputs": []
    },
    {
      "cell_type": "code",
      "source": [
        "# Download trashnet dataset\n",
        "data_100_percent_path = download_data(source=\"https://github.com/Jiwei-Cao/Recyclo/raw/refs/heads/main/data/trashnet.zip\",\n",
        "                                      destination=\"trashnet_100_percent\")"
      ],
      "metadata": {
        "id": "MQkldT6GdIkj",
        "colab": {
          "base_uri": "https://localhost:8080/"
        },
        "outputId": "3bf2ac5d-cf26-4490-d358-20a98a94f3d2"
      },
      "execution_count": null,
      "outputs": [
        {
          "output_type": "stream",
          "name": "stdout",
          "text": [
            "[INFO] Did not find data/trashnet_100_percent directory, creating one...\n",
            "[INFO] Downloading trashnet.zip from https://github.com/Jiwei-Cao/Recyclo/raw/refs/heads/main/data/trashnet.zip...\n",
            "[INFO] Unzipping trashnet.zip data...\n"
          ]
        }
      ]
    },
    {
      "cell_type": "code",
      "source": [
        "# Split the dataset into 20% training data and 80% testing data\n",
        "base_dir = Path(\"data/trashnet_100_percent\")\n",
        "src_dir = Path(base_dir / \"dataset-resized\")\n",
        "train_dir = Path(base_dir / \"train\")\n",
        "test_dir = Path(base_dir / \"test\")\n",
        "\n",
        "for class_folder in src_dir.iterdir():\n",
        "  if class_folder.is_dir():\n",
        "    images = list(class_folder.glob(\"*\"))\n",
        "    random.shuffle(images)\n",
        "\n",
        "    split_idx = int(0.8 * len(images))\n",
        "    train_images = images[:split_idx]\n",
        "    test_images = images[split_idx:]\n",
        "\n",
        "    # Create class folders in train and test\n",
        "    train_class_dir = train_dir / class_folder.name\n",
        "    test_class_dir = test_dir / class_folder.name\n",
        "    train_class_dir.mkdir(parents=True, exist_ok=True)\n",
        "    test_class_dir.mkdir(parents=True, exist_ok=True)\n",
        "\n",
        "    # Copy files\n",
        "    for img in train_images:\n",
        "      shutil.copy(img, train_class_dir / img.name)\n",
        "    for img in test_images:\n",
        "      shutil.copy(img, test_class_dir / img.name)\n",
        "\n",
        "# Delete unfiltered dataset file\n",
        "path_to_delete = Path(\"data/trashnet_100_percent/dataset-resized\")\n",
        "\n",
        "if path_to_delete.exists() and path_to_delete.is_dir():\n",
        "  shutil.rmtree(path_to_delete)\n",
        "  print(f\"Deleted: {path_to_delete}\")\n",
        "else:\n",
        "  print(f\"Folder not found or not a directory: {path_to_delete}\")"
      ],
      "metadata": {
        "id": "X_FIjXkSdvf7",
        "colab": {
          "base_uri": "https://localhost:8080/"
        },
        "outputId": "124b3b50-ce0d-44db-9ac0-7f4ccd54055a"
      },
      "execution_count": null,
      "outputs": [
        {
          "output_type": "stream",
          "name": "stdout",
          "text": [
            "Deleted: data/trashnet_100_percent/dataset-resized\n"
          ]
        }
      ]
    },
    {
      "cell_type": "code",
      "source": [
        "# Create trashnet_20_percent\n",
        "src_dir = Path(\"data/trashnet_100_percent\")\n",
        "src_train = src_dir / \"train\"\n",
        "src_test = src_dir / \"test\"\n",
        "dst_dir = Path(\"data/trashnet_20_percent\")\n",
        "dst_train = dst_dir / \"train\"\n",
        "dst_test = dst_dir / \"test\"\n",
        "\n",
        "dst_train.mkdir(parents=True, exist_ok=True)\n",
        "dst_test.mkdir(parents=True, exist_ok=True)\n",
        "\n",
        "# Copy 20% of training data\n",
        "for class_dir in src_train.iterdir():\n",
        "  if class_dir.is_dir():\n",
        "    images = list(class_dir.glob(\"*\"))\n",
        "    random.shuffle(images)\n",
        "    sample_count = int(len(images) * 0.2)\n",
        "    selected_images = images[:sample_count]\n",
        "\n",
        "    dst_class_dir = dst_train / class_dir.name\n",
        "    dst_class_dir.mkdir(parents=True, exist_ok=True)\n",
        "\n",
        "    for img in selected_images:\n",
        "      shutil.copy(img, dst_class_dir / img.name)\n",
        "\n",
        "# Copy all of test data\n",
        "for class_dir in src_test.iterdir():\n",
        "  if class_dir.is_dir():\n",
        "    dst_class_dir = dst_test / class_dir.name\n",
        "    dst_class_dir.mkdir(parents=True, exist_ok=True)\n",
        "\n",
        "    for img in class_dir.glob(\"*\"):\n",
        "      shutil.copy(img, dst_class_dir / img.name)"
      ],
      "metadata": {
        "id": "za7K91Tqh5qS"
      },
      "execution_count": null,
      "outputs": []
    },
    {
      "cell_type": "code",
      "source": [
        "# Setup train and test paths\n",
        "data_20_percent_path = Path(\"data/trashnet_20_percent\")\n",
        "train_dir_20_percent = data_20_percent_path / \"train\"\n",
        "test_dir_20_percent = data_20_percent_path / \"test\"\n",
        "\n",
        "train_dir_20_percent, test_dir_20_percent"
      ],
      "metadata": {
        "id": "EpRA_4GUkn9b",
        "colab": {
          "base_uri": "https://localhost:8080/"
        },
        "outputId": "26ecd4cd-6181-4fa2-a390-1dd93dedde78"
      },
      "execution_count": null,
      "outputs": [
        {
          "output_type": "execute_result",
          "data": {
            "text/plain": [
              "(PosixPath('data/trashnet_20_percent/train'),\n",
              " PosixPath('data/trashnet_20_percent/test'))"
            ]
          },
          "metadata": {},
          "execution_count": 7
        }
      ]
    },
    {
      "cell_type": "code",
      "source": [
        "# Creating an EffNetB2 feature extractor\n",
        "def create_effnetb2_model(num_classes:int,\n",
        "                          freeze_until: int=5):\n",
        "  # Create EffNetB2 pretrained weights, transform and model\n",
        "  weights = torchvision.models.EfficientNet_B2_Weights.DEFAULT\n",
        "  transform = weights.transforms()\n",
        "  model = torchvision.models.efficientnet_b2(weights=weights)\n",
        "\n",
        "  # Freeze early stages\n",
        "  for name, param in model.named_parameters():\n",
        "    stage_idx = int(name.split(\".\")[1])\n",
        "    if stage_idx <= freeze_until:\n",
        "      param.requires_grad = False\n",
        "    else:\n",
        "      param.requires_grad = True\n",
        "\n",
        "  # Change classifier head\n",
        "  in_feats = model.classifier[1].in_features\n",
        "  model.classifier = nn.Sequential(\n",
        "      nn.Dropout(p=0.3, inplace=True),\n",
        "      nn.Linear(in_features=in_feats, out_features=num_classes)\n",
        "  )\n",
        "\n",
        "  return model, transform"
      ],
      "metadata": {
        "id": "V5XSDdmplDOg"
      },
      "execution_count": null,
      "outputs": []
    },
    {
      "cell_type": "code",
      "source": [
        "recyclo_20_percent, recyclo_20_percent_transforms = create_effnetb2_model(num_classes=6)"
      ],
      "metadata": {
        "id": "PKCwHBDHqE7s",
        "colab": {
          "base_uri": "https://localhost:8080/"
        },
        "outputId": "b1bd1b05-1155-4e28-8478-26c3e62bd0a8"
      },
      "execution_count": null,
      "outputs": [
        {
          "output_type": "stream",
          "name": "stderr",
          "text": [
            "Downloading: \"https://download.pytorch.org/models/efficientnet_b2_rwightman-c35c1473.pth\" to /root/.cache/torch/hub/checkpoints/efficientnet_b2_rwightman-c35c1473.pth\n",
            "100%|██████████| 35.2M/35.2M [00:00<00:00, 146MB/s]\n"
          ]
        }
      ]
    },
    {
      "cell_type": "code",
      "source": [
        "summary(model=recyclo_20_percent,\n",
        "        input_size=(1, 3, 260, 260),\n",
        "        col_names=[\"input_size\", \"output_size\", \"num_params\", \"trainable\"],\n",
        "        col_width=20,\n",
        "        row_settings=[\"var_names\"])"
      ],
      "metadata": {
        "id": "xv7NdHa3rWE-",
        "colab": {
          "base_uri": "https://localhost:8080/"
        },
        "outputId": "a049a2ce-ca8d-4b86-c7f2-4f4ba371570b"
      },
      "execution_count": null,
      "outputs": [
        {
          "output_type": "execute_result",
          "data": {
            "text/plain": [
              "============================================================================================================================================\n",
              "Layer (type (var_name))                                      Input Shape          Output Shape         Param #              Trainable\n",
              "============================================================================================================================================\n",
              "EfficientNet (EfficientNet)                                  [1, 3, 260, 260]     [1, 6]               --                   Partial\n",
              "├─Sequential (features)                                      [1, 3, 260, 260]     [1, 1408, 9, 9]      --                   Partial\n",
              "│    └─Conv2dNormActivation (0)                              [1, 3, 260, 260]     [1, 32, 130, 130]    --                   False\n",
              "│    │    └─Conv2d (0)                                       [1, 3, 260, 260]     [1, 32, 130, 130]    (864)                False\n",
              "│    │    └─BatchNorm2d (1)                                  [1, 32, 130, 130]    [1, 32, 130, 130]    (64)                 False\n",
              "│    │    └─SiLU (2)                                         [1, 32, 130, 130]    [1, 32, 130, 130]    --                   --\n",
              "│    └─Sequential (1)                                        [1, 32, 130, 130]    [1, 16, 130, 130]    --                   False\n",
              "│    │    └─MBConv (0)                                       [1, 32, 130, 130]    [1, 16, 130, 130]    (1,448)              False\n",
              "│    │    └─MBConv (1)                                       [1, 16, 130, 130]    [1, 16, 130, 130]    (612)                False\n",
              "│    └─Sequential (2)                                        [1, 16, 130, 130]    [1, 24, 65, 65]      --                   False\n",
              "│    │    └─MBConv (0)                                       [1, 16, 130, 130]    [1, 24, 65, 65]      (6,004)              False\n",
              "│    │    └─MBConv (1)                                       [1, 24, 65, 65]      [1, 24, 65, 65]      (10,710)             False\n",
              "│    │    └─MBConv (2)                                       [1, 24, 65, 65]      [1, 24, 65, 65]      (10,710)             False\n",
              "│    └─Sequential (3)                                        [1, 24, 65, 65]      [1, 48, 33, 33]      --                   False\n",
              "│    │    └─MBConv (0)                                       [1, 24, 65, 65]      [1, 48, 33, 33]      (16,518)             False\n",
              "│    │    └─MBConv (1)                                       [1, 48, 33, 33]      [1, 48, 33, 33]      (43,308)             False\n",
              "│    │    └─MBConv (2)                                       [1, 48, 33, 33]      [1, 48, 33, 33]      (43,308)             False\n",
              "│    └─Sequential (4)                                        [1, 48, 33, 33]      [1, 88, 17, 17]      --                   False\n",
              "│    │    └─MBConv (0)                                       [1, 48, 33, 33]      [1, 88, 17, 17]      (50,300)             False\n",
              "│    │    └─MBConv (1)                                       [1, 88, 17, 17]      [1, 88, 17, 17]      (123,750)            False\n",
              "│    │    └─MBConv (2)                                       [1, 88, 17, 17]      [1, 88, 17, 17]      (123,750)            False\n",
              "│    │    └─MBConv (3)                                       [1, 88, 17, 17]      [1, 88, 17, 17]      (123,750)            False\n",
              "│    └─Sequential (5)                                        [1, 88, 17, 17]      [1, 120, 17, 17]     --                   False\n",
              "│    │    └─MBConv (0)                                       [1, 88, 17, 17]      [1, 120, 17, 17]     (149,158)            False\n",
              "│    │    └─MBConv (1)                                       [1, 120, 17, 17]     [1, 120, 17, 17]     (237,870)            False\n",
              "│    │    └─MBConv (2)                                       [1, 120, 17, 17]     [1, 120, 17, 17]     (237,870)            False\n",
              "│    │    └─MBConv (3)                                       [1, 120, 17, 17]     [1, 120, 17, 17]     (237,870)            False\n",
              "│    └─Sequential (6)                                        [1, 120, 17, 17]     [1, 208, 9, 9]       --                   True\n",
              "│    │    └─MBConv (0)                                       [1, 120, 17, 17]     [1, 208, 9, 9]       301,406              True\n",
              "│    │    └─MBConv (1)                                       [1, 208, 9, 9]       [1, 208, 9, 9]       686,868              True\n",
              "│    │    └─MBConv (2)                                       [1, 208, 9, 9]       [1, 208, 9, 9]       686,868              True\n",
              "│    │    └─MBConv (3)                                       [1, 208, 9, 9]       [1, 208, 9, 9]       686,868              True\n",
              "│    │    └─MBConv (4)                                       [1, 208, 9, 9]       [1, 208, 9, 9]       686,868              True\n",
              "│    └─Sequential (7)                                        [1, 208, 9, 9]       [1, 352, 9, 9]       --                   True\n",
              "│    │    └─MBConv (0)                                       [1, 208, 9, 9]       [1, 352, 9, 9]       846,900              True\n",
              "│    │    └─MBConv (1)                                       [1, 352, 9, 9]       [1, 352, 9, 9]       1,888,920            True\n",
              "│    └─Conv2dNormActivation (8)                              [1, 352, 9, 9]       [1, 1408, 9, 9]      --                   True\n",
              "│    │    └─Conv2d (0)                                       [1, 352, 9, 9]       [1, 1408, 9, 9]      495,616              True\n",
              "│    │    └─BatchNorm2d (1)                                  [1, 1408, 9, 9]      [1, 1408, 9, 9]      2,816                True\n",
              "│    │    └─SiLU (2)                                         [1, 1408, 9, 9]      [1, 1408, 9, 9]      --                   --\n",
              "├─AdaptiveAvgPool2d (avgpool)                                [1, 1408, 9, 9]      [1, 1408, 1, 1]      --                   --\n",
              "├─Sequential (classifier)                                    [1, 1408]            [1, 6]               --                   True\n",
              "│    └─Dropout (0)                                           [1, 1408]            [1, 1408]            --                   --\n",
              "│    └─Linear (1)                                            [1, 1408]            [1, 6]               8,454                True\n",
              "============================================================================================================================================\n",
              "Total params: 7,709,448\n",
              "Trainable params: 6,291,584\n",
              "Non-trainable params: 1,417,864\n",
              "Total mult-adds (Units.MEGABYTES): 992.25\n",
              "============================================================================================================================================\n",
              "Input size (MB): 0.81\n",
              "Forward/backward pass size (MB): 221.19\n",
              "Params size (MB): 30.84\n",
              "Estimated Total Size (MB): 252.84\n",
              "============================================================================================================================================"
            ]
          },
          "metadata": {},
          "execution_count": 10
        }
      ]
    },
    {
      "cell_type": "code",
      "source": [
        "NUM_WORKERS = os.cpu_count()\n",
        "\n",
        "def create_dataloaders(\n",
        "    train_dir: str,\n",
        "    test_dir: str,\n",
        "    train_transform: transforms.Compose,\n",
        "    test_transform: transforms.Compose,\n",
        "    batch_size: int,\n",
        "    num_workers: int=NUM_WORKERS\n",
        "):\n",
        "  \"\"\"Creates training and testing DataLoaders.\n",
        "\n",
        "  Takes in a training directory and testing directory path and turns\n",
        "  them into PyTorch Datasets and then into PyTorch DataLoaders.\n",
        "\n",
        "  Args:\n",
        "    train_dir: Path to training directory.\n",
        "    test_dir: Path to testing directory.\n",
        "    transform: torchvision transforms to perform on training and testing data.\n",
        "    batch_size: Number of samples per batch in each of the DataLoaders.\n",
        "    num_workers: An integer for number of workers per DataLoader.\n",
        "\n",
        "  Returns:\n",
        "    A tuple of (train_dataloader, test_dataloader, class_names).\n",
        "    Where class_names is a list of the target classes.\n",
        "    Example usage:\n",
        "      train_dataloader, test_dataloader, class_names = \\\n",
        "        = create_dataloaders(train_dir=path/to/train_dir,\n",
        "                             test_dir=path/to/test_dir,\n",
        "                             transform=some_transform,\n",
        "                             batch_size=32,\n",
        "                             num_workers=4)\n",
        "  \"\"\"\n",
        "  # Use ImageFolder to create dataset(s)\n",
        "  train_data = datasets.ImageFolder(train_dir, transform=train_transform)\n",
        "  test_data = datasets.ImageFolder(test_dir, transform=test_transform)\n",
        "\n",
        "  # Get class names\n",
        "  class_names = train_data.classes\n",
        "\n",
        "  # Turn images into data loaders\n",
        "  train_dataloader = DataLoader(\n",
        "      train_data,\n",
        "      batch_size=batch_size,\n",
        "      shuffle=True,\n",
        "      num_workers=num_workers,\n",
        "      pin_memory=True,\n",
        "  )\n",
        "  test_dataloader = DataLoader(\n",
        "      test_data,\n",
        "      batch_size=batch_size,\n",
        "      shuffle=False, # don't need to shuffle test data\n",
        "      num_workers=num_workers,\n",
        "      pin_memory=True,\n",
        "  )\n",
        "\n",
        "  return train_dataloader, test_dataloader, class_names"
      ],
      "metadata": {
        "id": "0_YLH-Y9ri6k"
      },
      "execution_count": null,
      "outputs": []
    },
    {
      "cell_type": "code",
      "source": [
        "# Setup dataloaders\n",
        "train_dataloader_recyclo_20_percent, test_dataloader_recyclo_20_percent, class_names = create_dataloaders(train_dir=train_dir_20_percent,\n",
        "                                                                                      test_dir=test_dir_20_percent,\n",
        "                                                                                      train_transform=recyclo_20_percent_transforms,\n",
        "                                                                                      test_transform=recyclo_20_percent_transforms,\n",
        "                                                                                      batch_size=32)\n",
        "len(train_dataloader_recyclo_20_percent), len(test_dataloader_recyclo_20_percent)"
      ],
      "metadata": {
        "id": "AE6FSBzrsDpk",
        "colab": {
          "base_uri": "https://localhost:8080/"
        },
        "outputId": "18a99acb-764e-4604-a65e-d49ce0f5e934"
      },
      "execution_count": null,
      "outputs": [
        {
          "output_type": "execute_result",
          "data": {
            "text/plain": [
              "(13, 16)"
            ]
          },
          "metadata": {},
          "execution_count": 12
        }
      ]
    },
    {
      "cell_type": "code",
      "source": [
        "def train_step(model: torch.nn.Module,\n",
        "               dataloader: torch.utils.data.DataLoader,\n",
        "               loss_fn: torch.nn.Module,\n",
        "               optimizer: torch.optim.Optimizer,\n",
        "               device: torch.device) -> Tuple[float, float]:\n",
        "  \"\"\"Trains a PyTorch model for a single epoch.\n",
        "\n",
        "  Turns a target PyTorch model to training mode and then\n",
        "  runs through all of the required training steps (forward\n",
        "  pass, loss calculation, optimizer step).\n",
        "\n",
        "  Args:\n",
        "    model: A PyTorch model to be trained.\n",
        "    dataloader: A DataLoader instance for the model to be trained on.\n",
        "    loss_fn: A PyTorch loss function to minimize.\n",
        "    optimizer: A PyTorch optimizer to help minimize the loss function.\n",
        "    device: A target device to compute on (e.g. \"cuda\" or \"cpu\").\n",
        "\n",
        "  Returns:\n",
        "    A tuple of training loss and training accuracy metrics.\n",
        "    In the form (train_loss, train_accuracy). For example:\n",
        "    (0.1112, 0.8743)\n",
        "  \"\"\"\n",
        "\n",
        "  # Put model in train mode\n",
        "  model.train()\n",
        "\n",
        "  # Setup train loss and train accuracy values\n",
        "  train_loss, train_acc = 0, 0\n",
        "\n",
        "  # Loop through data loader data batches\n",
        "  for batch, (X, y) in enumerate(dataloader):\n",
        "      # Send data to target device\n",
        "      X, y = X.to(device), y.to(device)\n",
        "\n",
        "      # 1. Forward pass\n",
        "      y_pred = model(X)\n",
        "\n",
        "      # 2. Calculate  and accumulate loss\n",
        "      loss = loss_fn(y_pred, y)\n",
        "      train_loss += loss.item()\n",
        "\n",
        "      # 3. Optimizer zero grad\n",
        "      optimizer.zero_grad()\n",
        "\n",
        "      # 4. Loss backward\n",
        "      loss.backward()\n",
        "\n",
        "      # 5. Optimizer step\n",
        "      optimizer.step()\n",
        "\n",
        "      # Calculate and accumulate accuracy metric across all batches\n",
        "      y_pred_class = torch.argmax(torch.softmax(y_pred, dim=1), dim=1)\n",
        "      train_acc += (y_pred_class == y).sum().item()/len(y_pred)\n",
        "\n",
        "  # Adjust metrics to get average loss and accuracy per batch\n",
        "  train_loss = train_loss / len(dataloader)\n",
        "  train_acc = train_acc / len(dataloader)\n",
        "  return train_loss, train_acc"
      ],
      "metadata": {
        "id": "H8dFyUgUsvRE"
      },
      "execution_count": null,
      "outputs": []
    },
    {
      "cell_type": "code",
      "source": [
        "def test_step(model: torch.nn.Module,\n",
        "              dataloader: torch.utils.data.DataLoader,\n",
        "              loss_fn: torch.nn.Module,\n",
        "              device: torch.device) -> Tuple[float, float]:\n",
        "  \"\"\"Tests a PyTorch model for a single epoch.\n",
        "\n",
        "  Turns a target PyTorch model to \"eval\" mode and then performs\n",
        "  a forward pass on a testing dataset.\n",
        "\n",
        "  Args:\n",
        "    model: A PyTorch model to be tested.\n",
        "    dataloader: A DataLoader instance for the model to be tested on.\n",
        "    loss_fn: A PyTorch loss function to calculate loss on the test data.\n",
        "    device: A target device to compute on (e.g. \"cuda\" or \"cpu\").\n",
        "\n",
        "  Returns:\n",
        "    A tuple of testing loss and testing accuracy metrics.\n",
        "    In the form (test_loss, test_accuracy). For example:\n",
        "    (0.0223, 0.8985)\n",
        "  \"\"\"\n",
        "\n",
        "  # Put model in eval mode\n",
        "  model.eval()\n",
        "\n",
        "  # Setup test loss and test accuracy values\n",
        "  test_loss, test_acc = 0, 0\n",
        "\n",
        "  # Turn on inference context manager\n",
        "  with torch.inference_mode():\n",
        "      # Loop through DataLoader batches\n",
        "      for batch, (X, y) in enumerate(dataloader):\n",
        "          # Send data to target device\n",
        "          X, y = X.to(device), y.to(device)\n",
        "\n",
        "          # 1. Forward pass\n",
        "          test_pred_logits = model(X)\n",
        "\n",
        "          # 2. Calculate and accumulate loss\n",
        "          loss = loss_fn(test_pred_logits, y)\n",
        "          test_loss += loss.item()\n",
        "\n",
        "          # Calculate and accumulate accuracy\n",
        "          test_pred_labels = test_pred_logits.argmax(dim=1)\n",
        "          test_acc += ((test_pred_labels == y).sum().item()/len(test_pred_labels))\n",
        "\n",
        "  # Adjust metrics to get average loss and accuracy per batch\n",
        "  test_loss = test_loss / len(dataloader)\n",
        "  test_acc = test_acc / len(dataloader)\n",
        "  return test_loss, test_acc\n"
      ],
      "metadata": {
        "id": "lZa8fmDes4lq"
      },
      "execution_count": null,
      "outputs": []
    },
    {
      "cell_type": "code",
      "source": [
        "def train(model: torch.nn.Module,\n",
        "          train_dataloader: torch.utils.data.DataLoader,\n",
        "          test_dataloader: torch.utils.data.DataLoader,\n",
        "          optimizer: torch.optim.Optimizer,\n",
        "          loss_fn: torch.nn.Module,\n",
        "          epochs: int,\n",
        "          device: torch.device) -> Dict[str, List]:\n",
        "  \"\"\"Trains and tests a PyTorch model.\n",
        "\n",
        "  Passes a target PyTorch models through train_step() and test_step()\n",
        "  functions for a number of epochs, training and testing the model\n",
        "  in the same epoch loop.\n",
        "\n",
        "  Calculates, prints and stores evaluation metrics throughout.\n",
        "\n",
        "  Args:\n",
        "    model: A PyTorch model to be trained and tested.\n",
        "    train_dataloader: A DataLoader instance for the model to be trained on.\n",
        "    test_dataloader: A DataLoader instance for the model to be tested on.\n",
        "    optimizer: A PyTorch optimizer to help minimize the loss function.\n",
        "    loss_fn: A PyTorch loss function to calculate loss on both datasets.\n",
        "    epochs: An integer indicating how many epochs to train for.\n",
        "    device: A target device to compute on (e.g. \"cuda\" or \"cpu\").\n",
        "\n",
        "  Returns:\n",
        "    A dictionary of training and testing loss as well as training and\n",
        "    testing accuracy metrics. Each metric has a value in a list for\n",
        "    each epoch.\n",
        "    In the form: {train_loss: [...],\n",
        "                  train_acc: [...],\n",
        "                  test_loss: [...],\n",
        "                  test_acc: [...]}\n",
        "    For example if training for epochs=2:\n",
        "                 {train_loss: [2.0616, 1.0537],\n",
        "                  train_acc: [0.3945, 0.3945],\n",
        "                  test_loss: [1.2641, 1.5706],\n",
        "                  test_acc: [0.3400, 0.2973]}\n",
        "  \"\"\"\n",
        "\n",
        "  # Create empty results dictionary\n",
        "  results = {\"train_loss\": [],\n",
        "      \"train_acc\": [],\n",
        "      \"test_loss\": [],\n",
        "      \"test_acc\": []\n",
        "  }\n",
        "\n",
        "  # Loop through training and testing steps for a number of epochs\n",
        "  for epoch in tqdm(range(epochs)):\n",
        "      train_loss, train_acc = train_step(model=model,\n",
        "                                          dataloader=train_dataloader,\n",
        "                                          loss_fn=loss_fn,\n",
        "                                          optimizer=optimizer,\n",
        "                                          device=device)\n",
        "      test_loss, test_acc = test_step(model=model,\n",
        "          dataloader=test_dataloader,\n",
        "          loss_fn=loss_fn,\n",
        "          device=device)\n",
        "\n",
        "      # Print out what's happening\n",
        "      print(\n",
        "          f\"Epoch: {epoch+1} | \"\n",
        "          f\"train_loss: {train_loss:.4f} | \"\n",
        "          f\"train_acc: {train_acc:.4f} | \"\n",
        "          f\"test_loss: {test_loss:.4f} | \"\n",
        "          f\"test_acc: {test_acc:.4f}\"\n",
        "      )\n",
        "\n",
        "      # Update results dictionary\n",
        "      results[\"train_loss\"].append(train_loss)\n",
        "      results[\"train_acc\"].append(train_acc)\n",
        "      results[\"test_loss\"].append(test_loss)\n",
        "      results[\"test_acc\"].append(test_acc)\n",
        "\n",
        "  # Return the filled results at the end of the epochs\n",
        "  return results"
      ],
      "metadata": {
        "id": "gyswLkZBs4bp"
      },
      "execution_count": null,
      "outputs": []
    },
    {
      "cell_type": "code",
      "source": [
        "# Training the recyclo_20_percent feature extractor\n",
        "NUM_EPOCHS = 10\n",
        "\n",
        "loss_fn = torch.nn.CrossEntropyLoss()\n",
        "optimizer = torch.optim.AdamW(\n",
        "    filter(lambda p: p.requires_grad, recyclo_20_percent.parameters()),\n",
        "    lr=1e-4,\n",
        "    weight_decay=1e-2\n",
        ")\n",
        "\n",
        "recyclo_20_percent_results = train(model=recyclo_20_percent.to(device),\n",
        "                         train_dataloader=train_dataloader_recyclo_20_percent,\n",
        "                         test_dataloader=test_dataloader_recyclo_20_percent,\n",
        "                         optimizer=optimizer,\n",
        "                         loss_fn=loss_fn,\n",
        "                         epochs=NUM_EPOCHS,\n",
        "                         device=device)"
      ],
      "metadata": {
        "id": "jcShbnK2sU1o",
        "colab": {
          "base_uri": "https://localhost:8080/",
          "height": 234,
          "referenced_widgets": [
            "235a95e4b8dd42b495a8da2951d0dad1",
            "435c49f2b8ce4aa98f3619fe636be66b",
            "95a050321dfa4ff082372fb723ccd84d",
            "bdafcb7cadec487ca7e233276c70e34f",
            "7348e3ebff2846879c8e09b12e99cb63",
            "72cfc920f2b945d38480d48ee97612d7",
            "013567784340422099a442b9970d12f7",
            "9c88511b4f664ed8b69bb632e4ba25ba",
            "fd8c57c364704b159c72cc06e60e4182",
            "59a3e30aee0248c0946a846b67451150",
            "45192441a4d84352aa16758edaa50dbb"
          ]
        },
        "outputId": "97015fff-c42a-4ab8-c5bd-8739a01c7bfd"
      },
      "execution_count": null,
      "outputs": [
        {
          "output_type": "display_data",
          "data": {
            "text/plain": [
              "  0%|          | 0/10 [00:00<?, ?it/s]"
            ],
            "application/vnd.jupyter.widget-view+json": {
              "version_major": 2,
              "version_minor": 0,
              "model_id": "235a95e4b8dd42b495a8da2951d0dad1"
            }
          },
          "metadata": {}
        },
        {
          "output_type": "stream",
          "name": "stdout",
          "text": [
            "Epoch: 1 | train_loss: 1.6764 | train_acc: 0.3480 | test_loss: 1.5438 | test_acc: 0.5781\n",
            "Epoch: 2 | train_loss: 1.3222 | train_acc: 0.7281 | test_loss: 1.2949 | test_acc: 0.6936\n",
            "Epoch: 3 | train_loss: 1.0131 | train_acc: 0.8130 | test_loss: 1.0766 | test_acc: 0.7327\n",
            "Epoch: 4 | train_loss: 0.7574 | train_acc: 0.8654 | test_loss: 0.9051 | test_acc: 0.7447\n",
            "Epoch: 5 | train_loss: 0.5552 | train_acc: 0.9145 | test_loss: 0.7843 | test_acc: 0.7642\n",
            "Epoch: 6 | train_loss: 0.4422 | train_acc: 0.9193 | test_loss: 0.6904 | test_acc: 0.7946\n",
            "Epoch: 7 | train_loss: 0.3178 | train_acc: 0.9468 | test_loss: 0.6312 | test_acc: 0.8103\n",
            "Epoch: 8 | train_loss: 0.2610 | train_acc: 0.9567 | test_loss: 0.5944 | test_acc: 0.8239\n",
            "Epoch: 9 | train_loss: 0.1815 | train_acc: 0.9789 | test_loss: 0.5676 | test_acc: 0.8320\n",
            "Epoch: 10 | train_loss: 0.1336 | train_acc: 0.9928 | test_loss: 0.5538 | test_acc: 0.8281\n"
          ]
        }
      ]
    },
    {
      "cell_type": "code",
      "source": [
        "# Plot loss curves of a model\n",
        "def plot_loss_curves(results):\n",
        "    \"\"\"Plots training curves of a results dictionary.\n",
        "\n",
        "    Args:\n",
        "        results (dict): dictionary containing list of values, e.g.\n",
        "            {\"train_loss\": [...],\n",
        "             \"train_acc\": [...],\n",
        "             \"test_loss\": [...],\n",
        "             \"test_acc\": [...]}\n",
        "    \"\"\"\n",
        "    loss = results[\"train_loss\"]\n",
        "    test_loss = results[\"test_loss\"]\n",
        "\n",
        "    accuracy = results[\"train_acc\"]\n",
        "    test_accuracy = results[\"test_acc\"]\n",
        "\n",
        "    epochs = range(len(results[\"train_loss\"]))\n",
        "\n",
        "    plt.figure(figsize=(15, 7))\n",
        "\n",
        "    # Plot loss\n",
        "    plt.subplot(1, 2, 1)\n",
        "    plt.plot(epochs, loss, label=\"train_loss\")\n",
        "    plt.plot(epochs, test_loss, label=\"test_loss\")\n",
        "    plt.title(\"Loss\")\n",
        "    plt.xlabel(\"Epochs\")\n",
        "    plt.legend()\n",
        "\n",
        "    # Plot accuracy\n",
        "    plt.subplot(1, 2, 2)\n",
        "    plt.plot(epochs, accuracy, label=\"train_accuracy\")\n",
        "    plt.plot(epochs, test_accuracy, label=\"test_accuracy\")\n",
        "    plt.title(\"Accuracy\")\n",
        "    plt.xlabel(\"Epochs\")\n",
        "    plt.legend()"
      ],
      "metadata": {
        "id": "oJahnptKxwfd"
      },
      "execution_count": null,
      "outputs": []
    },
    {
      "cell_type": "code",
      "source": [
        "plot_loss_curves(recyclo_20_percent_results)"
      ],
      "metadata": {
        "id": "gjesaHGdIcDU",
        "colab": {
          "base_uri": "https://localhost:8080/",
          "height": 641
        },
        "outputId": "e006290a-633d-47ed-8db7-d089429a665a"
      },
      "execution_count": null,
      "outputs": [
        {
          "output_type": "display_data",
          "data": {
            "text/plain": [
              "<Figure size 1500x700 with 2 Axes>"
            ],
            "image/png": "[encoded data removed]"
          },
          "metadata": {}
        }
      ]
    },
    {
      "cell_type": "code",
      "source": [
        "# Creating Recyclo Model with 100% of the data\n",
        "recyclo, recyclo_transforms = create_effnetb2_model(num_classes=6)"
      ],
      "metadata": {
        "id": "R3gO-qX-640l"
      },
      "execution_count": null,
      "outputs": []
    },
    {
      "cell_type": "code",
      "source": [
        "data_100_percent_path = Path(\"data/trashnet_100_percent\")\n",
        "train_dir_100_percent = data_100_percent_path / \"train\"\n",
        "test_dir_100_percent = data_100_percent_path / \"test\"\n",
        "\n",
        "train_dir, test_dir"
      ],
      "metadata": {
        "colab": {
          "base_uri": "https://localhost:8080/"
        },
        "id": "DaTBcONa5ZQU",
        "outputId": "dcc89c88-82ce-4e0e-e801-873e62120e39"
      },
      "execution_count": null,
      "outputs": [
        {
          "output_type": "execute_result",
          "data": {
            "text/plain": [
              "(PosixPath('data/trashnet_100_percent/train'),\n",
              " PosixPath('data/trashnet_100_percent/test'))"
            ]
          },
          "metadata": {},
          "execution_count": 20
        }
      ]
    },
    {
      "cell_type": "code",
      "source": [
        "# Create training data transforms with data augmentation (only for training data)\n",
        "recyclo_train_transforms = torchvision.transforms.Compose([\n",
        "    transforms.RandomResizedCrop(260, scale=(0.8, 1.0)),\n",
        "    transforms.RandAugment(),\n",
        "    recyclo_transforms\n",
        "])\n",
        "\n",
        "recyclo_train_transforms"
      ],
      "metadata": {
        "id": "kvnSwmXQ6KTI",
        "colab": {
          "base_uri": "https://localhost:8080/"
        },
        "outputId": "e3db5d95-b381-449c-a1bb-e9ab8911a1ca"
      },
      "execution_count": null,
      "outputs": [
        {
          "output_type": "execute_result",
          "data": {
            "text/plain": [
              "Compose(\n",
              "    RandomResizedCrop(size=(260, 260), scale=(0.8, 1.0), ratio=(0.75, 1.3333), interpolation=bilinear, antialias=True)\n",
              "    RandAugment(num_ops=2, magnitude=9, num_magnitude_bins=31, interpolation=InterpolationMode.NEAREST, fill=None)\n",
              "    ImageClassification(\n",
              "    crop_size=[288]\n",
              "    resize_size=[288]\n",
              "    mean=[0.485, 0.456, 0.406]\n",
              "    std=[0.229, 0.224, 0.225]\n",
              "    interpolation=InterpolationMode.BICUBIC\n",
              ")\n",
              ")"
            ]
          },
          "metadata": {},
          "execution_count": 21
        }
      ]
    },
    {
      "cell_type": "code",
      "source": [
        "# Testing data transform (no augmentation for testing data)\n",
        "recyclo_transforms"
      ],
      "metadata": {
        "id": "snnM6mCr6bLc",
        "colab": {
          "base_uri": "https://localhost:8080/"
        },
        "outputId": "a204e493-6a3a-4dec-dcf5-6cd640c097a0"
      },
      "execution_count": null,
      "outputs": [
        {
          "output_type": "execute_result",
          "data": {
            "text/plain": [
              "ImageClassification(\n",
              "    crop_size=[288]\n",
              "    resize_size=[288]\n",
              "    mean=[0.485, 0.456, 0.406]\n",
              "    std=[0.229, 0.224, 0.225]\n",
              "    interpolation=InterpolationMode.BICUBIC\n",
              ")"
            ]
          },
          "metadata": {},
          "execution_count": 22
        }
      ]
    },
    {
      "cell_type": "code",
      "source": [
        "# Setup dataloaders\n",
        "train_dataloader_recyclo_100_percent, test_dataloader_recyclo_100_percent, class_names = create_dataloaders(train_dir=train_dir_100_percent,\n",
        "                                                                                      test_dir=test_dir_100_percent,\n",
        "                                                                                      train_transform=recyclo_train_transforms,\n",
        "                                                                                      test_transform=recyclo_transforms,\n",
        "                                                                                      batch_size=32)\n",
        "len(train_dataloader_recyclo_100_percent), len(test_dataloader_recyclo_100_percent)"
      ],
      "metadata": {
        "id": "fiMgH-Sa6kiG",
        "colab": {
          "base_uri": "https://localhost:8080/"
        },
        "outputId": "b3bb7701-1b65-4b3b-99e9-e2cae2effd15"
      },
      "execution_count": null,
      "outputs": [
        {
          "output_type": "execute_result",
          "data": {
            "text/plain": [
              "(64, 16)"
            ]
          },
          "metadata": {},
          "execution_count": 23
        }
      ]
    },
    {
      "cell_type": "code",
      "source": [
        "# Training recyclo\n",
        "NUM_EPOCHS = 15\n",
        "\n",
        "optimizer = torch.optim.AdamW(\n",
        "    filter(lambda p: p.requires_grad, recyclo.parameters()),\n",
        "    lr=1e-4,\n",
        "    weight_decay=1e-2\n",
        ")\n",
        "\n",
        "loss_fn = nn.CrossEntropyLoss(label_smoothing=0.1)\n",
        "\n",
        "recyclo_results = train(model=recyclo.to(device),\n",
        "                        train_dataloader=train_dataloader_recyclo_100_percent,\n",
        "                        test_dataloader=test_dataloader_recyclo_100_percent,\n",
        "                        optimizer=optimizer,\n",
        "                        loss_fn=loss_fn,\n",
        "                        epochs=NUM_EPOCHS,\n",
        "                        device=device)"
      ],
      "metadata": {
        "id": "eBri5sm09H3e",
        "colab": {
          "base_uri": "https://localhost:8080/",
          "height": 326,
          "referenced_widgets": [
            "5b967d95ffb44f0dbcff98c194390b05",
            "fa191c4b19e64d428ec23064bf9a464e",
            "30c35459bb264c5f8ef04e757243b806",
            "faec296cba7d49d2b442481858d79bae",
            "a58d077a5c434f42b813e71c9003db96",
            "bc7a5a76996c47838700ab471f639d0f",
            "b20f9dcae895466696b89558707efe94",
            "7f50df473eb64e49a1d71165c723347c",
            "edf14a9b4f4449fb80ef45f6f03f1ece",
            "42b016de8cc3429085edd734ae496f2b",
            "8787a36c32864026950e610522f4856f"
          ]
        },
        "outputId": "b8be66a3-78b9-4160-8802-a8df4b40d010"
      },
      "execution_count": null,
      "outputs": [
        {
          "output_type": "display_data",
          "data": {
            "text/plain": [
              "  0%|          | 0/15 [00:00<?, ?it/s]"
            ],
            "application/vnd.jupyter.widget-view+json": {
              "version_major": 2,
              "version_minor": 0,
              "model_id": "5b967d95ffb44f0dbcff98c194390b05"
            }
          },
          "metadata": {}
        },
        {
          "output_type": "stream",
          "name": "stdout",
          "text": [
            "Epoch: 1 | train_loss: 1.3738 | train_acc: 0.5933 | test_loss: 0.9700 | test_acc: 0.7829\n",
            "Epoch: 2 | train_loss: 0.8822 | train_acc: 0.8115 | test_loss: 0.7810 | test_acc: 0.8518\n",
            "Epoch: 3 | train_loss: 0.7179 | train_acc: 0.8857 | test_loss: 0.6998 | test_acc: 0.8823\n",
            "Epoch: 4 | train_loss: 0.6607 | train_acc: 0.9028 | test_loss: 0.6599 | test_acc: 0.8982\n",
            "Epoch: 5 | train_loss: 0.5965 | train_acc: 0.9346 | test_loss: 0.6307 | test_acc: 0.9040\n",
            "Epoch: 6 | train_loss: 0.5690 | train_acc: 0.9489 | test_loss: 0.6092 | test_acc: 0.9129\n",
            "Epoch: 7 | train_loss: 0.5537 | train_acc: 0.9543 | test_loss: 0.6054 | test_acc: 0.9116\n",
            "Epoch: 8 | train_loss: 0.5361 | train_acc: 0.9635 | test_loss: 0.5925 | test_acc: 0.9171\n",
            "Epoch: 9 | train_loss: 0.5276 | train_acc: 0.9679 | test_loss: 0.5953 | test_acc: 0.9096\n",
            "Epoch: 10 | train_loss: 0.5144 | train_acc: 0.9756 | test_loss: 0.5909 | test_acc: 0.9074\n",
            "Epoch: 11 | train_loss: 0.4994 | train_acc: 0.9824 | test_loss: 0.5982 | test_acc: 0.9099\n",
            "Epoch: 12 | train_loss: 0.5048 | train_acc: 0.9691 | test_loss: 0.5648 | test_acc: 0.9408\n",
            "Epoch: 13 | train_loss: 0.5004 | train_acc: 0.9811 | test_loss: 0.5695 | test_acc: 0.9347\n",
            "Epoch: 14 | train_loss: 0.5059 | train_acc: 0.9733 | test_loss: 0.5734 | test_acc: 0.9308\n",
            "Epoch: 15 | train_loss: 0.4991 | train_acc: 0.9836 | test_loss: 0.5663 | test_acc: 0.9389\n"
          ]
        }
      ]
    },
    {
      "cell_type": "code",
      "source": [
        "plot_loss_curves(recyclo_results)"
      ],
      "metadata": {
        "id": "-bkW1xUg-nwn",
        "colab": {
          "base_uri": "https://localhost:8080/",
          "height": 641
        },
        "outputId": "361b92b8-6d73-4c44-c3da-7a0fdaea14c6"
      },
      "execution_count": null,
      "outputs": [
        {
          "output_type": "display_data",
          "data": {
            "text/plain": [
              "<Figure size 1500x700 with 2 Axes>"
            ],
            "image/png": "[encoded data removed]"
          },
          "metadata": {}
        }
      ]
    },
    {
      "cell_type": "code",
      "source": [
        "def save_model(model: torch.nn.Module,\n",
        "               target_dir: str,\n",
        "               model_name: str):\n",
        "  \"\"\"Saves a PyTorch model to a target directory.\n",
        "\n",
        "  Args:\n",
        "    model: A target PyTorch model to save.\n",
        "    target_dir: A directory for saving the model to.\n",
        "    model_name: A filename for the saved model. Should include\n",
        "      either \".pth\" or \".pt\" as the file extension.\n",
        "\n",
        "  Example usage:\n",
        "    save_model(model=model_0,\n",
        "               target_dir=\"models\",\n",
        "               model_name=\"05_going_modular_tingvgg_model.pth\")\n",
        "  \"\"\"\n",
        "  # Create target directory\n",
        "  target_dir_path = Path(target_dir)\n",
        "  target_dir_path.mkdir(parents=True,\n",
        "                        exist_ok=True)\n",
        "\n",
        "  # Create model save path\n",
        "  assert model_name.endswith(\".pth\") or model_name.endswith(\".pt\"), \"model_name should end with '.pt' or '.pth'\"\n",
        "  model_save_path = target_dir_path / model_name\n",
        "\n",
        "  # Save the model state_dict()\n",
        "  print(f\"[INFO] Saving model to: {model_save_path}\")\n",
        "  torch.save(obj=model.state_dict(),\n",
        "             f=model_save_path)"
      ],
      "metadata": {
        "id": "nz46K3GdGsNu"
      },
      "execution_count": null,
      "outputs": []
    },
    {
      "cell_type": "code",
      "source": [
        "# Create a model path for recyclo\n",
        "recyclo_model_path = \"recyclo_model.pth\"\n",
        "\n",
        "# Save model\n",
        "save_model(model=recyclo,\n",
        "           target_dir=\"models/\",\n",
        "           model_name=recyclo_model_path)"
      ],
      "metadata": {
        "colab": {
          "base_uri": "https://localhost:8080/"
        },
        "id": "aAl7RKr5iPy_",
        "outputId": "1ee62508-9755-4ffe-a22b-8fd09bc17e95"
      },
      "execution_count": null,
      "outputs": [
        {
          "output_type": "stream",
          "name": "stdout",
          "text": [
            "[INFO] Saving model to: models/recyclo_model.pth\n"
          ]
        }
      ]
    },
    {
      "cell_type": "code",
      "source": [
        "# Check recyclo model size\n",
        "recyclo_model_size = Path(\"models\", recyclo_model_path).stat().st_size // (1024 * 1024)\n",
        "print(f\"Recyclo model size: {recyclo_model_size}MB\")"
      ],
      "metadata": {
        "colab": {
          "base_uri": "https://localhost:8080/"
        },
        "id": "8kpMwmn2ijfL",
        "outputId": "439e1524-fa26-4670-e0d3-1bee5e5ad8e6"
      },
      "execution_count": 31,
      "outputs": [
        {
          "output_type": "stream",
          "name": "stdout",
          "text": [
            "Recyclo model size: 29MB\n"
          ]
        }
      ]
    },
    {
      "cell_type": "code",
      "source": [
        "# Download recyclo model\n",
        "try:\n",
        "  from google.colab import files\n",
        "  files.download(\"models/recyclo_model.pth\")\n",
        "except:\n",
        "  print(f\"Not running in Google Colab, can't use google.colab.files.download(), please download recyclo_model.pth manually\")"
      ],
      "metadata": {
        "colab": {
          "base_uri": "https://localhost:8080/",
          "height": 17
        },
        "id": "rB8t077gi5zF",
        "outputId": "a8b25969-b253-4cd6-b777-fb7b3bf9ecfc"
      },
      "execution_count": 32,
      "outputs": [
        {
          "output_type": "display_data",
          "data": {
            "text/plain": [
              "<IPython.core.display.Javascript object>"
            ],
            "application/javascript": [
              "\n",
              "    async function download(id, filename, size) {\n",
              "      if (!google.colab.kernel.accessAllowed) {\n",
              "        return;\n",
              "      }\n",
              "      const div = document.createElement('div');\n",
              "      const label = document.createElement('label');\n",
              "      label.textContent = `Downloading \"${filename}\": `;\n",
              "      div.appendChild(label);\n",
              "      const progress = document.createElement('progress');\n",
              "      progress.max = size;\n",
              "      div.appendChild(progress);\n",
              "      document.body.appendChild(div);\n",
              "\n",
              "      const buffers = [];\n",
              "      let downloaded = 0;\n",
              "\n",
              "      const channel = await google.colab.kernel.comms.open(id);\n",
              "      // Send a message to notify the kernel that we're ready.\n",
              "      channel.send({})\n",
              "\n",
              "      for await (const message of channel.messages) {\n",
              "        // Send a message to notify the kernel that we're ready.\n",
              "        channel.send({})\n",
              "        if (message.buffers) {\n",
              "          for (const buffer of message.buffers) {\n",
              "            buffers.push(buffer);\n",
              "            downloaded += buffer.byteLength;\n",
              "            progress.value = downloaded;\n",
              "          }\n",
              "        }\n",
              "      }\n",
              "      const blob = new Blob(buffers, {type: 'application/binary'});\n",
              "      const a = document.createElement('a');\n",
              "      a.href = window.URL.createObjectURL(blob);\n",
              "      a.download = filename;\n",
              "      div.appendChild(a);\n",
              "      a.click();\n",
              "      div.remove();\n",
              "    }\n",
              "  "
            ]
          },
          "metadata": {}
        },
        {
          "output_type": "display_data",
          "data": {
            "text/plain": [
              "<IPython.core.display.Javascript object>"
            ],
            "application/javascript": [
              "download(\"download_b732a01f-8d40-4294-9c2c-10f74e90dd08\", \"recyclo_model.pth\", 31293754)"
            ]
          },
          "metadata": {}
        }
      ]
    },
    {
      "cell_type": "code",
      "source": [],
      "metadata": {
        "id": "RZX6Xi4LjUKG"
      },
      "execution_count": null,
      "outputs": []
    }
  ]
}